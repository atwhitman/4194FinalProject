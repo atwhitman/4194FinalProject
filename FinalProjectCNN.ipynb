{
 "cells": [
  {
   "cell_type": "code",
   "execution_count": 36,
   "metadata": {},
   "outputs": [
    {
     "data": {
      "text/plain": [
       "\"\\nCNN for Smartphone-Based Recognition of Human Activities and Postural Transitions Data Set \\nLink: http://archive.ics.uci.edu/ml/datasets/Smartphone-Based+Recognition+of+Human+Activities+and+Postural+Transitions\\n\\nUsing Raw Data folder and splitting into train and testing with k-fold validation.\\n\\n***********\\nOverall data formatting:\\n         accX  accY  accZ  gyroX  gyroY  gyroZ\\nSamples\\n1\\n2\\n3\\n...\\nn\\n************\\n\\n1. Look into 1D convolutions\\n2. Figure out loading in data efficiently, possibly use some library\\n3. Samples have differing row lengths (due to time), truncate to same length\\n    don't know if its necessary. \\n    SOLVED: The action/label lengths for each action are chopped up blocks\\n    of time of entire experiment sampled data length.\\n    Must divide up and chop full experiment sample data into blocks of time\\n    that correspond to action/label length from labels .txt file\\n\""
      ]
     },
     "execution_count": 36,
     "metadata": {},
     "output_type": "execute_result"
    }
   ],
   "source": [
    "\"\"\"\n",
    "CNN for Smartphone-Based Recognition of Human Activities and Postural Transitions Data Set \n",
    "Link: http://archive.ics.uci.edu/ml/datasets/Smartphone-Based+Recognition+of+Human+Activities+and+Postural+Transitions\n",
    "\n",
    "Using Raw Data folder and splitting into train and testing with k-fold validation.\n",
    "\n",
    "***********\n",
    "Overall data formatting:\n",
    "         accX  accY  accZ  gyroX  gyroY  gyroZ\n",
    "Samples\n",
    "1\n",
    "2\n",
    "3\n",
    "...\n",
    "n\n",
    "************\n",
    "\n",
    "1. Look into 1D convolutions\n",
    "2. Figure out loading in data efficiently, possibly use some library\n",
    "3. Samples have differing row lengths (due to time), truncate to same length\n",
    "    don't know if its necessary. \n",
    "    SOLVED: The action/label lengths for each action are chopped up blocks\n",
    "    of time of entire experiment sampled data length.\n",
    "    Must divide up and chop full experiment sample data into blocks of time\n",
    "    that correspond to action/label length from labels .txt file\n",
    "\"\"\""
   ]
  },
  {
   "cell_type": "code",
   "execution_count": 37,
   "metadata": {},
   "outputs": [],
   "source": [
    "import numpy as np\n",
    "import glob\n",
    "\n",
    "classes = ('WALKING', 'WALKING_UPSTAIRS', 'WALKING_DOWNSTAIRS', 'SITTING', 'STANDING', 'LAYING', 'STAND_TO_SIT', 'SIT_TO_STAND', 'SIT_TO_LIE', 'LIE_TO_SIT', 'STAND_TO_LIE', 'LIE_TO_STAND')\n",
    "\n",
    "# labels array\n",
    "labels = np.loadtxt('HAPT_Data_Set/RawData/labels.txt')\n",
    "# Separate labels for each action contained within each experiment, create array \n",
    "\n",
    "# import .txt files of samples with data\n",
    "ACCtxt = glob.glob(\"HAPT_Data_Set/RawData/ACC/*.txt\")\n",
    "GYROtxt = glob.glob(\"HAPT_Data_Set/RawData/Gyro/*.txt\")\n",
    "ACCexpData = []\n",
    "GYROexpData = []\n",
    "\n",
    "# Create multidemensional arrays comprised of samples of each experiment\n",
    "for exp in enumerate(ACCtxt):\n",
    "    ACCexpData.append(np.loadtxt(ACCtxt[exp[0]]))\n",
    "\n",
    "for expG in enumerate(GYROtxt):\n",
    "    GYROexpData.append(np.loadtxt(GYROtxt[expG[0]]))"
   ]
  },
  {
   "cell_type": "code",
   "execution_count": 59,
   "metadata": {},
   "outputs": [
    {
     "name": "stdout",
     "output_type": "stream",
     "text": [
      "(60,)\n",
      "(22, 5)\n",
      "[[1.0000e+00 1.0000e+00 5.0000e+00 2.5000e+02 1.2320e+03]\n",
      " [1.0000e+00 1.0000e+00 7.0000e+00 1.2330e+03 1.3920e+03]\n",
      " [1.0000e+00 1.0000e+00 4.0000e+00 1.3930e+03 2.1940e+03]\n",
      " [1.0000e+00 1.0000e+00 8.0000e+00 2.1950e+03 2.3590e+03]\n",
      " [1.0000e+00 1.0000e+00 5.0000e+00 2.3600e+03 3.3740e+03]\n",
      " [1.0000e+00 1.0000e+00 1.1000e+01 3.3750e+03 3.6620e+03]\n",
      " [1.0000e+00 1.0000e+00 6.0000e+00 3.6630e+03 4.5380e+03]\n",
      " [1.0000e+00 1.0000e+00 1.0000e+01 4.5390e+03 4.7350e+03]\n",
      " [1.0000e+00 1.0000e+00 4.0000e+00 4.7360e+03 5.6670e+03]\n",
      " [1.0000e+00 1.0000e+00 9.0000e+00 5.6680e+03 5.8590e+03]\n",
      " [1.0000e+00 1.0000e+00 6.0000e+00 5.8600e+03 6.7860e+03]\n",
      " [1.0000e+00 1.0000e+00 1.2000e+01 6.7870e+03 6.9770e+03]\n",
      " [1.0000e+00 1.0000e+00 1.0000e+00 7.4960e+03 8.0780e+03]\n",
      " [1.0000e+00 1.0000e+00 1.0000e+00 8.3560e+03 9.2500e+03]\n",
      " [1.0000e+00 1.0000e+00 1.0000e+00 9.6570e+03 1.0567e+04]\n",
      " [1.0000e+00 1.0000e+00 1.0000e+00 1.0750e+04 1.1714e+04]\n",
      " [1.0000e+00 1.0000e+00 3.0000e+00 1.3191e+04 1.3846e+04]\n",
      " [1.0000e+00 1.0000e+00 2.0000e+00 1.4069e+04 1.4699e+04]\n",
      " [1.0000e+00 1.0000e+00 3.0000e+00 1.4869e+04 1.5492e+04]\n",
      " [1.0000e+00 1.0000e+00 2.0000e+00 1.5712e+04 1.6377e+04]\n",
      " [1.0000e+00 1.0000e+00 3.0000e+00 1.6530e+04 1.7153e+04]\n",
      " [1.0000e+00 1.0000e+00 2.0000e+00 1.7298e+04 1.7970e+04]]\n"
     ]
    }
   ],
   "source": [
    "# Convert to np arrays for ease of manipulation\n",
    "ACCexp = np.asarray(ACCexpData)\n",
    "GYROexp = np.asarray(GYROexpData)\n",
    "\n",
    "# Go through labels array and create new arrays based on labels for each experiment\n",
    "labelArray = []\n",
    "expArray = []\n",
    "expcount = 1\n",
    "for row in labels:\n",
    "    exp = int(row[0])\n",
    "    if exp==expcount:\n",
    "        expArray.append(row)\n",
    "    else:\n",
    "        expArray = np.asarray(expArray)\n",
    "        labelArray.append(expArray)\n",
    "        expArray = []\n",
    "        expArray.append(row)\n",
    "        expcount+=1\n",
    "    \n",
    "# Now, we have label array according to experiment number and comprised of time slices of each\n",
    "# action with its respective label.\n",
    "npLabels = np.asarray(labelArray)\n",
    "print(npLabels.shape)\n",
    "print(npLabels[0].shape)\n",
    "print(npLabels[0])"
   ]
  },
  {
   "cell_type": "code",
   "execution_count": 58,
   "metadata": {},
   "outputs": [
    {
     "name": "stdout",
     "output_type": "stream",
     "text": [
      "(21303, 3)\n",
      "[[ 1.0375     -0.30000001 -0.30833334]\n",
      " [ 1.09444447 -0.32500002 -0.36527779]\n",
      " [ 1.04861114 -0.32777778 -0.33750002]\n",
      " ...\n",
      " [ 0.97638895 -0.18333334 -0.2888889 ]\n",
      " [ 0.97361117 -0.18194445 -0.28750001]\n",
      " [ 0.97638895 -0.18472223 -0.29583334]]\n"
     ]
    }
   ],
   "source": [
    "# Now, we must split the ACC and GYRO experiment data into a multidimensional array \n",
    "# that corresponds to labelled action for particular time splices.\n",
    "print(ACCexp[0].shape)\n",
    "#for experiment in\n",
    "\n",
    "# below is how i will access the time splices, simply grab time splices for each\n",
    "# action of npLabels array and use variables to access them within ACC/GYRO data\n",
    "# WOOHOO makin' progress!\n",
    "print(ACCexp[0][250:1232])"
   ]
  },
  {
   "cell_type": "code",
   "execution_count": null,
   "metadata": {},
   "outputs": [],
   "source": []
  }
 ],
 "metadata": {
  "kernelspec": {
   "display_name": "Python 3",
   "language": "python",
   "name": "python3"
  },
  "language_info": {
   "codemirror_mode": {
    "name": "ipython",
    "version": 3
   },
   "file_extension": ".py",
   "mimetype": "text/x-python",
   "name": "python",
   "nbconvert_exporter": "python",
   "pygments_lexer": "ipython3",
   "version": "3.6.8"
  }
 },
 "nbformat": 4,
 "nbformat_minor": 2
}
