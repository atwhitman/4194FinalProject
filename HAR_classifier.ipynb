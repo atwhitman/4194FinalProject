{
 "cells": [
  {
   "cell_type": "markdown",
   "metadata": {},
   "source": [
    "# ECE 4194 Final Project. Spring 2019. The Ohio State University\n",
    "## Authors: Michael Wharton.124, Alex Whitman.97, Benji Justice.251"
   ]
  },
  {
   "cell_type": "markdown",
   "metadata": {},
   "source": [
    "This notebook is to train a resnet model to classify the actions specified in the dataset linked below.\n",
    "\n",
    "Dataset: http://archive.ics.uci.edu/ml/datasets/Smartphone-Based+Recognition+of+Human+Activities+and+Postural+Transitions\n",
    "\n"
   ]
  },
  {
   "cell_type": "markdown",
   "metadata": {},
   "source": [
    "### Define packages to autoreload"
   ]
  },
  {
   "cell_type": "code",
   "execution_count": 5,
   "metadata": {},
   "outputs": [
    {
     "name": "stdout",
     "output_type": "stream",
     "text": [
      "The autoreload extension is already loaded. To reload it, use:\n",
      "  %reload_ext autoreload\n"
     ]
    }
   ],
   "source": [
    "%load_ext autoreload\n",
    "%autoreload 1"
   ]
  },
  {
   "cell_type": "code",
   "execution_count": 6,
   "metadata": {},
   "outputs": [],
   "source": [
    "%aimport models.resnet"
   ]
  },
  {
   "cell_type": "markdown",
   "metadata": {},
   "source": [
    "### Import necessary modules"
   ]
  },
  {
   "cell_type": "code",
   "execution_count": 15,
   "metadata": {},
   "outputs": [],
   "source": [
    "# torch modules\n",
    "import torch\n",
    "import torch.nn as nn\n",
    "from torch.utils.data import DataLoader\n",
    "\n",
    "# import model\n",
    "from models.resnet import resnet18\n",
    "\n",
    "\n",
    "\n",
    "# classics\n",
    "import numpy as np\n",
    "import matplotlib\n",
    "import matplotlib.pyplot as plt\n",
    "import time"
   ]
  },
  {
   "cell_type": "code",
   "execution_count": null,
   "metadata": {},
   "outputs": [],
   "source": []
  },
  {
   "cell_type": "markdown",
   "metadata": {},
   "source": [
    "### Define model hyper parameters"
   ]
  },
  {
   "cell_type": "code",
   "execution_count": 8,
   "metadata": {},
   "outputs": [],
   "source": [
    "# what percentage of data should be used for training \n",
    "split = 0.7\n",
    "\n",
    "num_epoch = 1000\n",
    "lr = 0.5e-4\n"
   ]
  },
  {
   "cell_type": "code",
   "execution_count": null,
   "metadata": {},
   "outputs": [],
   "source": []
  },
  {
   "cell_type": "markdown",
   "metadata": {},
   "source": [
    "### Create Model"
   ]
  },
  {
   "cell_type": "code",
   "execution_count": 9,
   "metadata": {},
   "outputs": [],
   "source": [
    "model = resnet18()"
   ]
  },
  {
   "cell_type": "markdown",
   "metadata": {},
   "source": [
    "### Handle GPU"
   ]
  },
  {
   "cell_type": "code",
   "execution_count": 11,
   "metadata": {},
   "outputs": [],
   "source": [
    "if torch.cuda.is_available():\n",
    "    dtype = torch.cuda.FloatTensor\n",
    "    device = torch.device('cuda:0')\n",
    "    model = model.to(device)\n",
    "else:\n",
    "    dtype = torch.FloatTensor\n",
    "    device = torch.device('cpu')"
   ]
  },
  {
   "cell_type": "markdown",
   "metadata": {},
   "source": [
    "### Handle loss function and optimizer"
   ]
  },
  {
   "cell_type": "code",
   "execution_count": null,
   "metadata": {},
   "outputs": [],
   "source": [
    "crit = torch.nn.CrossEntropyLoss()\n",
    "opt  = torch.optim.Adam(model.parameters(), lr=lr, weight_decay=0)"
   ]
  },
  {
   "cell_type": "markdown",
   "metadata": {},
   "source": [
    "### Track stats"
   ]
  },
  {
   "cell_type": "code",
   "execution_count": 14,
   "metadata": {},
   "outputs": [],
   "source": [
    "stats = np.zeros(shape=(num_epoch, 2, 2))\n",
    "\n",
    "# indices\n",
    "train = 0\n",
    "test  = 1\n",
    "acc   = 0\n",
    "loss  = 1\n"
   ]
  },
  {
   "cell_type": "markdown",
   "metadata": {},
   "source": [
    "### Load data"
   ]
  },
  {
   "cell_type": "code",
   "execution_count": null,
   "metadata": {},
   "outputs": [],
   "source": [
    "# ..."
   ]
  },
  {
   "cell_type": "markdown",
   "metadata": {},
   "source": [
    "### Train !"
   ]
  },
  {
   "cell_type": "code",
   "execution_count": null,
   "metadata": {},
   "outputs": [],
   "source": [
    "tstart = time.time()\n",
    "for epoch in range(num_epoch):\n",
    "    \n",
    "    # switch to train mode\n",
    "    model.train()\n",
    "    \n",
    "    # track accuracy\n",
    "    total = 0\n",
    "    correct = 0\n",
    "    \n",
    "    # track loss\n",
    "    tr_loss = []\n",
    "    for batch, data in enumerate(train_dl):\n",
    "        print('Training Iteration: {0:4d} or {1:4d}'.format(batch+1, train_batches), end='\\r')\n",
    "        \n",
    "        # extract signal and labels\n",
    "        signals, labels = data\n",
    "        \n",
    "        ## Normalize?\n",
    "        \n",
    "        # move data to device\n",
    "        signal = signal.to(device)\n",
    "        label = label.to(device)\n",
    "        \n",
    "        # process signals\n",
    "        out = model(signals)\n",
    "        \n",
    "        \n",
    "        # hard decision for classification\n",
    "        _, pred = torch.max(out.data, 1)\n",
    "        \n",
    "        # compute accuracy\n",
    "        total   += labels.size(0)\n",
    "        correct += (pred == labels).sum().item()\n",
    "        \n",
    "        # compute loss\n",
    "        b_loss = crit(out, labels)\n",
    "        opt.zero_grad()\n",
    "        b_loss.backward()\n",
    "        opt.step()\n",
    "        \n",
    "        tr_loss.append(b_loss.item())\n",
    "    \n",
    "    # epoch training stats\n",
    "    tr_accuracy = 100. * correct / total\n",
    "    tr_loss = np.mean(tr_loss)\n",
    "    \n",
    "    # evaluate model\n",
    "    model.eval()\n",
    "    \n",
    "    ts_loss = []\n",
    "    total   = 0\n",
    "    correct = 0\n",
    "    with torch.no_grad():\n",
    "        for batch, data in enumerate(test_dl):\n",
    "            print('Testing  Iteration:: {0:4d} or {1:4d}'.format(batch+1, test_batches), end='\\r')\n",
    "            \n",
    "            # extract signals and labels\n",
    "            signals, labels = data\n",
    "            \n",
    "            # move data to device\n",
    "            signals = signals.to(device)\n",
    "            labels = labels.to(device)\n",
    "            \n",
    "            # process signals\n",
    "            out = model(signals)\n",
    "            \n",
    "            # hard decision for classification\n",
    "            _, pred = torch.max(out.data, 1)\n",
    "            \n",
    "            # compute accuracy\n",
    "            total   += labels.size(0)\n",
    "            correct += (pred == labels).sum().item()\n",
    "            \n",
    "            # compute loss\n",
    "            b_loss = crit(out, labels)\n",
    "            \n",
    "            ts_loss.append(b_loss.item())\n",
    "            \n",
    "    # epoch testing stats\n",
    "    ts_accuracy = 100. * correct / total\n",
    "    ts_loss = ts_loss.mean(ts_loss)\n",
    "    \n",
    "    # save stats to plot later\n",
    "    stats[epoch, train, loss     ] = tr_loss\n",
    "    stats[epoch, train, accuracy ] = tr_accuracy\n",
    "    stats[epoch, test,  loss     ] = ts_loss\n",
    "    stats[epoch, test,  accuracy ] = ts_accuracy\n",
    "    \n",
    "    t1 = time.time() - tstart\n",
    "    print('Epoch: {0:4d} Tr loss: {1:.3f} Ts loss: {2:.3f} Tr Accuracy: {3:3.2f}% Ts Accuracy: {4:3.2f}% Time: {5:4.2f}s'.format(\n",
    "            epoch+1,      tr_loss,         ts_loss,         ts_accuracy,           ts_accuracy, t1))"
   ]
  },
  {
   "cell_type": "code",
   "execution_count": null,
   "metadata": {},
   "outputs": [],
   "source": []
  },
  {
   "cell_type": "code",
   "execution_count": null,
   "metadata": {},
   "outputs": [],
   "source": []
  },
  {
   "cell_type": "code",
   "execution_count": null,
   "metadata": {},
   "outputs": [],
   "source": []
  },
  {
   "cell_type": "code",
   "execution_count": null,
   "metadata": {},
   "outputs": [],
   "source": []
  }
 ],
 "metadata": {
  "kernelspec": {
   "display_name": "Python 3",
   "language": "python",
   "name": "python3"
  },
  "language_info": {
   "codemirror_mode": {
    "name": "ipython",
    "version": 3
   },
   "file_extension": ".py",
   "mimetype": "text/x-python",
   "name": "python",
   "nbconvert_exporter": "python",
   "pygments_lexer": "ipython3",
   "version": "3.7.1"
  }
 },
 "nbformat": 4,
 "nbformat_minor": 2
}
